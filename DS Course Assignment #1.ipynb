{
 "cells": [
  {
   "cell_type": "markdown",
   "metadata": {},
   "source": [
    "1. Write a Python program to print the following string in a specific format(see the output).\n",
    "\tTwinkle, twinkle, little star,\n",
    "\t\tHow I wonder what you are\n",
    "\t\t\tUp above the world so high,\n",
    "\t\t\tLike a diamond in the sky.\n",
    "\tTwinkle, twinkle, little star,\n",
    "\t\tHow I wonder what you are"
   ]
  },
  {
   "cell_type": "code",
   "execution_count": 1,
   "metadata": {},
   "outputs": [
    {
     "name": "stdout",
     "output_type": "stream",
     "text": [
      "Twinkle, twinkle, little star,\n",
      " \t How I wonder what you are!\n",
      " \t \t Up above the world so high,\n",
      " \t \t Like a diamond in the sky.\n",
      " Twinkle, twinkle, little star,\n",
      " \t How I wonder what you are!\n",
      "\n"
     ]
    }
   ],
   "source": [
    "flin = \"Twinkle, twinkle, little star,\\n\"\n",
    "seclin = \"\\t How I wonder what you are!\\n\"\n",
    "thrlin = \"\\t \\t Up above the world so high,\\n\"\n",
    "frlin =\"\\t \\t Like a diamond in the sky.\\n\"\n",
    "print(flin,seclin,thrlin,frlin,flin,seclin)"
   ]
  },
  {
   "cell_type": "markdown",
   "metadata": {},
   "source": [
    "2. Write a Python program to get the Python version you ae using"
   ]
  },
  {
   "cell_type": "code",
   "execution_count": 2,
   "metadata": {},
   "outputs": [
    {
     "name": "stdout",
     "output_type": "stream",
     "text": [
      "3.9.7\n"
     ]
    }
   ],
   "source": [
    "from platform import python_version\n",
    "print(python_version())"
   ]
  },
  {
   "cell_type": "markdown",
   "metadata": {},
   "source": [
    "3. Write a Python program to display the current date and time."
   ]
  },
  {
   "cell_type": "code",
   "execution_count": 3,
   "metadata": {},
   "outputs": [
    {
     "name": "stdout",
     "output_type": "stream",
     "text": [
      "The current date and time is:  2021-12-30 12:20:00\n"
     ]
    }
   ],
   "source": [
    "import datetime\n",
    "now = datetime.datetime.now()\n",
    "print (\"The current date and time is: \", now.strftime(\"%Y-%m-%d %H:%M:%S\"))"
   ]
  },
  {
   "cell_type": "markdown",
   "metadata": {},
   "source": [
    "4. Write a Python program which accepts the radius of a circle from the user and compute the area."
   ]
  },
  {
   "cell_type": "code",
   "execution_count": 5,
   "metadata": {},
   "outputs": [
    {
     "name": "stdout",
     "output_type": "stream",
     "text": [
      "enter radius of the circle : 8\n",
      "Area of the circle is:  201.06192982974676\n"
     ]
    }
   ],
   "source": [
    "from math import pi\n",
    "radius = float(input (\"enter radius of the circle : \"))\n",
    "area = pi*radius**2\n",
    "print (\"Area of the circle is: \" ,area)"
   ]
  },
  {
   "cell_type": "markdown",
   "metadata": {},
   "source": [
    "5. Write a Python program which accepts the user's first and last name and print them in reverse order with a space between them."
   ]
  },
  {
   "cell_type": "code",
   "execution_count": 6,
   "metadata": {},
   "outputs": [
    {
     "name": "stdout",
     "output_type": "stream",
     "text": [
      "First name please:Pakistan\n",
      "Last name please:Jawan\n",
      "Jawan   Pakistan\n"
     ]
    }
   ],
   "source": [
    "f_name = input (\"First name please:\")\n",
    "l_name = input (\"Last name please:\")\n",
    "print (l_name,\" \",f_name)"
   ]
  },
  {
   "cell_type": "markdown",
   "metadata": {},
   "source": [
    "6. Write a python program which takes two Inputs from user and print them addition"
   ]
  },
  {
   "cell_type": "code",
   "execution_count": 7,
   "metadata": {},
   "outputs": [
    {
     "name": "stdout",
     "output_type": "stream",
     "text": [
      "First input : 11\n",
      "Second input : deaf\n",
      "the sum is  11deaf\n"
     ]
    }
   ],
   "source": [
    "fin = input (\"First input : \")\n",
    "sin = input (\"Second input : \")\n",
    "res = fin+sin\n",
    "print(\"the sum is \",res)"
   ]
  },
  {
   "cell_type": "code",
   "execution_count": null,
   "metadata": {},
   "outputs": [],
   "source": []
  }
 ],
 "metadata": {
  "kernelspec": {
   "display_name": "Python 3 (ipykernel)",
   "language": "python",
   "name": "python3"
  },
  "language_info": {
   "codemirror_mode": {
    "name": "ipython",
    "version": 3
   },
   "file_extension": ".py",
   "mimetype": "text/x-python",
   "name": "python",
   "nbconvert_exporter": "python",
   "pygments_lexer": "ipython3",
   "version": "3.9.7"
  }
 },
 "nbformat": 4,
 "nbformat_minor": 2
}
